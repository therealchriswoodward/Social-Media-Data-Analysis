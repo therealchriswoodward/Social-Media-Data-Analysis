{
 "cells": [
  {
   "cell_type": "markdown",
   "metadata": {},
   "source": [
    "# Clean & Analyze Social Media"
   ]
  },
  {
   "cell_type": "markdown",
   "metadata": {},
   "source": [
    "## Introduction\n",
    "\n",
    "Social media has become a ubiquitous part of modern life, with platforms such as Instagram, Twitter, and Facebook serving as essential communication channels. Social media data sets are vast and complex, making analysis a challenging task for businesses and researchers alike. In this project, we explore a simulated social media, for example Tweets, data set to understand trends in likes across different categories.\n",
    "\n",
    "## Prerequisites\n",
    "\n",
    "To follow along with this project, you should have a basic understanding of Python programming and data analysis concepts. In addition, you may want to use the following packages in your Python environment:\n",
    "\n",
    "- pandas\n",
    "- Matplotlib\n",
    "- ...\n",
    "\n",
    "These packages should already be installed in Coursera's Jupyter Notebook environment, however if you'd like to install additional packages that are not included in this environment or are working off platform you can install additional packages using `!pip install packagename` within a notebook cell such as:\n",
    "\n",
    "- `!pip install pandas`\n",
    "- `!pip install matplotlib`\n",
    "\n",
    "## Project Scope\n",
    "\n",
    "The objective of this project is to analyze tweets (or other social media data) and gain insights into user engagement. We will explore the data set using visualization techniques to understand the distribution of likes across different categories. Finally, we will analyze the data to draw conclusions about the most popular categories and the overall engagement on the platform.\n",
    "\n",
    "## Step 1: Importing Required Libraries\n",
    "\n",
    "As the name suggests, the first step is to import all the necessary libraries that will be used in the project. In this case, we need pandas, numpy, matplotlib, seaborn, and random libraries.\n",
    "\n",
    "Pandas is a library used for data manipulation and analysis. Numpy is a library used for numerical computations. Matplotlib is a library used for data visualization. Seaborn is a library used for statistical data visualization. Random is a library used to generate random numbers."
   ]
  },
  {
   "cell_type": "code",
   "execution_count": 92,
   "metadata": {},
   "outputs": [],
   "source": [
    "import pandas as pd\n",
    "import numpy as np\n",
    "import matplotlib.pyplot as plt\n",
    "import seaborn as sns\n",
    "import random"
   ]
  },
  {
   "cell_type": "code",
   "execution_count": 4,
   "metadata": {},
   "outputs": [],
   "source": [
    "# Define a list of 'Categories' for the tweets\n",
    "\n",
    "categories = ['Fitness','Tech','Politics','Comedy','Travel']"
   ]
  },
  {
   "cell_type": "code",
   "execution_count": 13,
   "metadata": {},
   "outputs": [
    {
     "name": "stdout",
     "output_type": "stream",
     "text": [
      "        Date  Category  Likes\n",
      "0 2024-01-01  Politics    917\n",
      "1 2024-01-02      Tech    567\n",
      "2 2024-01-03    Travel    196\n",
      "3 2024-01-04  Politics     97\n",
      "4 2024-01-05   Fitness    383\n",
      "5 2024-01-06   Fitness    424\n",
      "6 2024-01-07      Tech    218\n",
      "7 2024-01-08  Politics    811\n",
      "8 2024-01-09    Travel    425\n",
      "9 2024-01-10   Fitness    285\n"
     ]
    }
   ],
   "source": [
    "# Variable for time periods\n",
    "n = 120\n",
    "\n",
    "# Define a dataframe filled with data periods\n",
    "data = pd.DataFrame(\n",
    "    {\n",
    "        'Date' : pd.date_range('01-01-2024',periods=n),\n",
    "        'Category' : [random.choice(categories) for _ in range(n)],\n",
    "        'Likes' : np.random.randint(0,1000,size=n)\n",
    "    }\n",
    ")\n",
    "\n",
    "# Checking my work\n",
    "print(data.head(10))"
   ]
  },
  {
   "cell_type": "code",
   "execution_count": 14,
   "metadata": {},
   "outputs": [
    {
     "name": "stdout",
     "output_type": "stream",
     "text": [
      "            Likes\n",
      "count  120.000000\n",
      "mean   516.483333\n",
      "std    290.002868\n",
      "min     14.000000\n",
      "25%    276.000000\n",
      "50%    518.500000\n",
      "75%    784.750000\n",
      "max    994.000000\n"
     ]
    }
   ],
   "source": [
    "# Reading a summary of the data\n",
    "print(data.describe())"
   ]
  },
  {
   "cell_type": "code",
   "execution_count": 15,
   "metadata": {},
   "outputs": [
    {
     "name": "stdout",
     "output_type": "stream",
     "text": [
      "<class 'pandas.core.frame.DataFrame'>\n",
      "RangeIndex: 120 entries, 0 to 119\n",
      "Data columns (total 3 columns):\n",
      " #   Column    Non-Null Count  Dtype         \n",
      "---  ------    --------------  -----         \n",
      " 0   Date      120 non-null    datetime64[ns]\n",
      " 1   Category  120 non-null    object        \n",
      " 2   Likes     120 non-null    int64         \n",
      "dtypes: datetime64[ns](1), int64(1), object(1)\n",
      "memory usage: 2.9+ KB\n",
      "None\n"
     ]
    }
   ],
   "source": [
    "# Reading about data types and null values\n",
    "print(data.info())"
   ]
  },
  {
   "cell_type": "code",
   "execution_count": 22,
   "metadata": {},
   "outputs": [
    {
     "name": "stdout",
     "output_type": "stream",
     "text": [
      "Fitness     28\n",
      "Travel      27\n",
      "Politics    25\n",
      "Comedy      22\n",
      "Tech        18\n",
      "Name: Category, dtype: int64\n"
     ]
    }
   ],
   "source": [
    "# Count of each category\n",
    "count = data['Category'].value_counts()\n",
    "\n",
    "# Checking\n",
    "print(count)"
   ]
  },
  {
   "cell_type": "code",
   "execution_count": 25,
   "metadata": {},
   "outputs": [
    {
     "data": {
      "image/png": "[encoded data removed]",
      "text/plain": [
       "<Figure size 432x288 with 1 Axes>"
      ]
     },
     "metadata": {
      "needs_background": "light"
     },
     "output_type": "display_data"
    }
   ],
   "source": [
    "# Visualizing the value counts of each category\n",
    "plt.bar(count.index,count,color='black',label='Number of Posts per Category')\n",
    "plt.title('Visualization of Volume by Category')\n",
    "plt.legend()\n",
    "plt.show()"
   ]
  },
  {
   "cell_type": "code",
   "execution_count": 28,
   "metadata": {},
   "outputs": [
    {
     "name": "stdout",
     "output_type": "stream",
     "text": [
      "<class 'pandas.core.frame.DataFrame'>\n",
      "RangeIndex: 120 entries, 0 to 119\n",
      "Data columns (total 3 columns):\n",
      " #   Column    Non-Null Count  Dtype         \n",
      "---  ------    --------------  -----         \n",
      " 0   Date      120 non-null    datetime64[ns]\n",
      " 1   Category  120 non-null    category      \n",
      " 2   Likes     120 non-null    int64         \n",
      "dtypes: category(1), datetime64[ns](1), int64(1)\n",
      "memory usage: 2.3 KB\n",
      "None\n"
     ]
    }
   ],
   "source": [
    "# Performing data type conversions\n",
    "\n",
    "# 'Category' to data type 'Category'\n",
    "# Saves some memory over time\n",
    "data['Category'] = data['Category'].astype('category')\n",
    "\n",
    "# 'Date' is already in datetime64 format by default from Pandas\n",
    "\n",
    "# Likes is already in integer format by default from Pandas\n",
    "\n",
    "# Checking my work\n",
    "print(data.info())"
   ]
  },
  {
   "cell_type": "code",
   "execution_count": null,
   "metadata": {},
   "outputs": [],
   "source": [
    "# Note: Memory usage down from 2.9+ KB to 2.3 KB"
   ]
  },
  {
   "cell_type": "code",
   "execution_count": 30,
   "metadata": {},
   "outputs": [
    {
     "name": "stdout",
     "output_type": "stream",
     "text": [
      "Date        0\n",
      "Category    0\n",
      "Likes       0\n",
      "dtype: int64\n"
     ]
    }
   ],
   "source": [
    "# Checking for nulls\n",
    "nulls = data.isnull().sum()\n",
    "\n",
    "print(nulls)"
   ]
  },
  {
   "cell_type": "code",
   "execution_count": 31,
   "metadata": {},
   "outputs": [],
   "source": [
    "# O null values\n",
    "# Moving on to visualizing likes per category"
   ]
  },
  {
   "cell_type": "code",
   "execution_count": 51,
   "metadata": {},
   "outputs": [
    {
     "data": {
      "image/png": "[encoded data removed]",
      "text/plain": [
       "<Figure size 432x288 with 1 Axes>"
      ]
     },
     "metadata": {
      "needs_background": "light"
     },
     "output_type": "display_data"
    }
   ],
   "source": [
    "# Visualizing Likes per Category\n",
    "\n",
    "# This version of seaborn 0.10.1 does not support histplot\n",
    "# I'm going to do it this way instead\n",
    "\n",
    "# Grouping likes by category\n",
    "likes = data['Likes'].groupby(data['Category']).sum() # Don't forget .sum()\n",
    "\n",
    "# Plotting\n",
    "plt.bar(likes.index,likes,color='black',label='Number of Likes per Category')\n",
    "plt.title('Likes Per Category',fontsize=18) # fontname='Times New Roman' not supported\n",
    "plt.xlabel('Categories',fontsize=14) # fontname='Times New Roman' not supported\n",
    "plt.ylabel('Likes per Category',fontsize=14) # fontname='Times New Roman' not supported\n",
    "plt.legend(loc='best') # fontname='Times New Roman' not supported\n",
    "plt.show()"
   ]
  },
  {
   "cell_type": "code",
   "execution_count": 108,
   "metadata": {},
   "outputs": [
    {
     "data": {
      "image/png": "[encoded data removed]",
      "text/plain": [
       "<Figure size 864x576 with 1 Axes>"
      ]
     },
     "metadata": {
      "needs_background": "light"
     },
     "output_type": "display_data"
    }
   ],
   "source": [
    "# Boxplot for assignment (The first boxplot I personally have every done. I had to look of stuff up to do this.)\n",
    "categories = data['Category'].unique()\n",
    "mydata = [data[data['Category'] == category]['Likes'] for category in categories] # This logic was challenging\n",
    "\n",
    "plt.figure(figsize=(12,8))\n",
    "plt.boxplot(mydata, labels=categories)\n",
    "plt.xlabel('Category',fontsize=14)\n",
    "plt.ylabel('Likes',fontsize=14)\n",
    "plt.title('Likes by Category')\n",
    "plt.show()\n"
   ]
  },
  {
   "cell_type": "code",
   "execution_count": 83,
   "metadata": {},
   "outputs": [
    {
     "name": "stdout",
     "output_type": "stream",
     "text": [
      "Average Comedy likes: 629.00\n",
      "Average Fitness likes: 523.36\n",
      "Average Politics likes: 472.28\n",
      "Average Tech likes: 561.78\n",
      "Average Travel likes: 428.41\n"
     ]
    }
   ],
   "source": [
    "# Average number of likes per category over this time period (120 days)\n",
    "mean_comedy = data[data['Category'] == 'Comedy']['Likes'].mean()\n",
    "mean_fitness = data[data['Category'] == 'Fitness']['Likes'].mean()\n",
    "mean_politics = data[data['Category'] == 'Politics']['Likes'].mean()\n",
    "mean_tech = data[data['Category'] == 'Tech']['Likes'].mean()\n",
    "mean_travel = data[data['Category'] == 'Travel']['Likes'].mean()\n",
    "\n",
    "print(f\"Average Comedy likes: {mean_comedy:.2f}\")\n",
    "print(f\"Average Fitness likes: {mean_fitness:.2f}\")\n",
    "print(f\"Average Politics likes: {mean_politics:.2f}\")\n",
    "print(f\"Average Tech likes: {mean_tech:.2f}\")\n",
    "print(f\"Average Travel likes: {mean_travel:.2f}\")"
   ]
  },
  {
   "cell_type": "markdown",
   "metadata": {},
   "source": [
    "## Conclusions: <hr/>\n",
    "\n",
    "On average Comedy recieves the most likes, but tech and politics seem to have the highest peaks. With comedy having a noticably higher mean, I would say in this hypothetical scenario that there must have been some political news story surrounding technology or regulation related to it that caused trend in the amount of attention they were receiving. The greater spread between the open and close of the box-and-whisker for politics could be the result of such a trend.\n",
    "\n",
    "Travel doesn't seem to have the same volatility as politics or tech. The open and close of the box look to be about the same magnitude from the mean.\n",
    "\n",
    "Looking at Comedy, we see that it dropped well below the mean; this could confirm some politically charged tech news that stole attention away from what is _actually_ the most liked category. As more attention flowed towards tech and politics, it lowered the interactions with comedy.\n",
    "\n",
    "Fitness increased simulataneously. Maybe it was health tech? Maybe it was unrelated.\n",
    "\n",
    "I believe a correlation analysis for individual time-series data would be in order, but the data was not laid out in such a way, and at the current moment, I'm not confident with my ability to chop it up and find out.\n",
    "\n",
    "I would advise the \"social media company\" in question here to not dive into any heated political debate but to stick to comedy and fitness as the political and tech discussion is likely temporary. People like to laugh more than they like to be angry. If any political discussion were to be had, I would keep it funny and 'above the belt'.\n",
    "\n",
    "I would also advise data be gathered daily for these categories so discrete time-series analysis may be done more effectively to prove or disprove any theories about one category having a negative relationship with another."
   ]
  }
 ],
 "metadata": {
  "kernelspec": {
   "display_name": "Python 3 (ipykernel)",
   "language": "python",
   "name": "python3"
  },
  "language_info": {
   "codemirror_mode": {
    "name": "ipython",
    "version": 3
   },
   "file_extension": ".py",
   "mimetype": "text/x-python",
   "name": "python",
   "nbconvert_exporter": "python",
   "pygments_lexer": "ipython3",
   "version": "3.11.7"
  }
 },
 "nbformat": 4,
 "nbformat_minor": 4
}
